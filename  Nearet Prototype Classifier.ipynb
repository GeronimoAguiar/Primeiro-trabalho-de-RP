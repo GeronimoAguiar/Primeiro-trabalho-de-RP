{
 "cells": [
  {
   "cell_type": "code",
   "execution_count": 1,
   "metadata": {},
   "outputs": [],
   "source": [
    "import scipy.io as sp\n",
    "import pandas as pd\n",
    "import numpy as np"
   ]
  },
  {
   "cell_type": "code",
   "execution_count": 2,
   "metadata": {},
   "outputs": [],
   "source": [
    "classe1 = sp.loadmat ('Classe1.mat')  #carrega a base de dados Classe1\n",
    "classe2 = sp.loadmat ('Classe2.mat')  #carrega a base de dados Classe2\n",
    "classe1 = pd.DataFrame.from_dict(classe1['Classe1']) #as operações acima carregam as bases em formas de array, e essas duas linhas convertem para tabelas dataframe\n",
    "classe2 = pd.DataFrame.from_dict(classe2['Classe2'])"
   ]
  },
  {
   "cell_type": "code",
   "execution_count": 3,
   "metadata": {},
   "outputs": [],
   "source": [
    "classe1 = classe1.T #pega a transposta\n",
    "classe2 = classe2.T \n",
    "c1 = [1]*50         #cria um vetor de 50 posições preenchidas com o valor 1\n",
    "c2 = [2]*50         #cria um vetor de 50 posições preenchidas com o valor 2\n",
    "frames = [classe1, classe2]\n",
    "baseA = pd.concat(frames) #concatena as duas bases em apenas um dataframe\n",
    "base = pd.DataFrame()     #cria um dataframe vazio"
   ]
  },
  {
   "cell_type": "code",
   "execution_count": 4,
   "metadata": {},
   "outputs": [],
   "source": [
    "base[\"mean\"] = baseA.mean(axis=1)   #cria uma coluna \"mean\" e preenche com as medias de cada linha\n",
    "base[\"median\"] = baseA.median(axis=1)  #cria uma coluna \"median\" e preenche com as medianas de cada linha\n",
    "base[\"std\"] = baseA.std(axis=1)        #cria uma coluna \"std\" e preenche com os desvio padrão de cada linha\n",
    "base[\"max\"] = baseA.max(axis=1)        #cria uma coluna \"max\" e preenche com os valores maximos de cada linha\n",
    "base[\"skewness\"] = baseA.skew(axis=1)  #cria uma coluna \"skewness\" e preenche com a assimetria de cada linha\n",
    "base[\"labels\"] = c1+c2                 #atribui os rotulos a cada linha\n",
    "base = base.reset_index(drop=True)     #reseta os indices do dataframe para ir de 0 a 99"
   ]
  },
  {
   "cell_type": "code",
   "execution_count": 6,
   "metadata": {},
   "outputs": [
    {
     "name": "stdout",
     "output_type": "stream",
     "text": [
      "A acurácia para é  0.79\n"
     ]
    }
   ],
   "source": [
    "acuracia = 0                                                               #variável para acumular os acertos\n",
    "for K in range(10):                                                        #for para variar o K-fold\n",
    "    if (K == 0):\n",
    "        test = base.loc[0:9]\n",
    "        train = base.loc[10:99]\n",
    "    elif (K == 9):\n",
    "        test = base.loc[K*10:(K*10)+9]\n",
    "        train = base.loc[0:89]\n",
    "    else:\n",
    "        test = base.loc[K*10:(K*10)+9]\n",
    "        train = pd.concat([base.loc[0:(K*10)-1], base.loc[(K*10)+10:99]])\n",
    "    train = train.reset_index(drop=True)                                  #reseta os indices do dataframe para ir de 0 a 89\n",
    "    test = test.reset_index(drop=True)                                    #reseta os indices do dataframe para ir de 0 a 9\n",
    "    centros = train.groupby([\"labels\"]).mean()                            #calcula a media de cada atributo de cada classe\n",
    "    centros = centros.reset_index(drop=True) \n",
    "    for d in range(10):                                                   #percorre as 10 amostras\n",
    "        amostra = test.iloc[d,:-1]                                        #seleciona a amostra de test da posição 'd'\n",
    "        distancia = pd.DataFrame({\"distancia\":[],\"labels\":[]})            #cria um dataframe vazio\n",
    "        for a in range(2):                                               #percorre as 90 linhas do grupo train\n",
    "            b = [np.sqrt(sum(pow(centros.iloc[a,:].T - amostra.T,2))), a+1 ]  #calcula a distancia euclidiana da amosta[d] com o train[a]\n",
    "            distancia = distancia.append({'distancia':b[0],'labels':b[1]},ignore_index=True) #adiciona uma linha com a distancia e com o rotulo de train[a]\n",
    "        distancia = distancia.sort_values('distancia')[0:1]                                  #ordena as distancias em ordem crescente e seleciona os k primeiros\n",
    "        if(test['labels'][d] == distancia[\"labels\"].mode().values[0]):                              #testa se o rotulo é o mesmo da moda das k primeiras distancias\n",
    "            acuracia += 1\n",
    "print(\"A acurácia para é \", acuracia/100)"
   ]
  },
  {
   "cell_type": "code",
   "execution_count": null,
   "metadata": {},
   "outputs": [],
   "source": []
  },
  {
   "cell_type": "code",
   "execution_count": null,
   "metadata": {},
   "outputs": [],
   "source": []
  },
  {
   "cell_type": "code",
   "execution_count": null,
   "metadata": {},
   "outputs": [],
   "source": []
  }
 ],
 "metadata": {
  "kernelspec": {
   "display_name": "Python 3",
   "language": "python",
   "name": "python3"
  },
  "language_info": {
   "codemirror_mode": {
    "name": "ipython",
    "version": 3
   },
   "file_extension": ".py",
   "mimetype": "text/x-python",
   "name": "python",
   "nbconvert_exporter": "python",
   "pygments_lexer": "ipython3",
   "version": "3.7.4"
  }
 },
 "nbformat": 4,
 "nbformat_minor": 2
}
